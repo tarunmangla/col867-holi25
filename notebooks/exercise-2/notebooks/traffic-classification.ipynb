{
 "cells": [
  {
   "cell_type": "code",
   "execution_count": null,
   "id": "2836ff4d-8fa8-46ac-917d-40f13cf4e28e",
   "metadata": {
    "tags": []
   },
   "outputs": [],
   "source": [
    "# ## Step 1: Import Libraries\n",
    "import pandas as pd\n",
    "import numpy as np\n",
    "from sklearn.model_selection import train_test_split\n",
    "from sklearn.preprocessing import StandardScaler, LabelEncoder\n",
    "from sklearn.ensemble import RandomForestClassifier\n",
    "from sklearn.metrics import classification_report, confusion_matrix, accuracy_score\n",
    "import matplotlib.pyplot as plt\n",
    "import seaborn as sns\n",
    "import ast"
   ]
  },
  {
   "cell_type": "code",
   "execution_count": null,
   "id": "d471cc30-5f73-4925-bc7f-47ef7744838f",
   "metadata": {
    "tags": []
   },
   "outputs": [],
   "source": [
    "# ## Step 2: Load the Dataset\n",
    "file_path = \"../data/VNAT_Dataframe_release_1.csv\"  # Update with the correct path\n",
    "data = pd.read_csv(file_path)"
   ]
  },
  {
   "cell_type": "markdown",
   "id": "b2bd98fb-030e-4eab-a303-b04df4084aca",
   "metadata": {
    "tags": []
   },
   "source": [
    "### Preprocessing: convert string array to float"
   ]
  },
  {
   "cell_type": "code",
   "execution_count": null,
   "id": "b1e33e09-da31-430e-a1ce-105dbead86c4",
   "metadata": {
    "tags": []
   },
   "outputs": [],
   "source": [
    "def get_float(str_array):\n",
    "    # Remove brackets and split the string by commas\n",
    "    cleaned_string = str_array.strip(\"[]\")  # Remove [ and ]\n",
    "    string_list = cleaned_string.split(\",\")    # Split by commas\n",
    "\n",
    "    # Convert to a NumPy array of floats\n",
    "    float_array = np.array(string_list, dtype=float)\n",
    "    return float_array \n",
    "\n",
    "for field in [\"timestamps\", \"sizes\", \"directions\"]:\n",
    "    print(field)\n",
    "    data[field] = data[field].apply(lambda x:  get_float(x))\n",
    "    "
   ]
  },
  {
   "cell_type": "markdown",
   "id": "82a7fd03-5ce3-43c0-a25e-4bc275497260",
   "metadata": {},
   "source": [
    "## Description\n",
    "The dataset contains detailed logs of network connections extracted from a PCAP file. Each row represents a unique connection with the following columns:\n",
    "\n",
    "- Unnamed: 0: Index of the row (IGNORE)\n",
    "- connection: A tuple describing the connection (source IP, source port, destination IP, destination port, protocol).\n",
    "- timestamps: A list of timestamps indicating when packets for the connection were captured.\n",
    "- sizes: A list of packet sizes (in bytes) for the connection.\n",
    "- directions: A list indicating packet directions (1 for source-to-destination, 0 for destination-to-source).\n",
    "- file_names: The name of the PCAP file from which the data was extracted."
   ]
  },
  {
   "cell_type": "code",
   "execution_count": null,
   "id": "e0b21af3-fab8-4983-9be4-366dfdc1fb88",
   "metadata": {
    "tags": []
   },
   "outputs": [],
   "source": [
    "## Label extraction: Extract label from the filename\n",
    "label_col = \"label\"\n",
    "data[label_col] = data[\"file_names\"].apply(lambda x: '_'.join(x.split('_')[:2]))\n",
    "\n",
    "# ### Drop Classes with Less Than 5 Instances\n",
    "class_counts = data[label_col].value_counts()\n",
    "data = data[data[label_col].isin(class_counts[class_counts > 5].index)]\n",
    "\n",
    "le = LabelEncoder()\n",
    "data[\"label_encoded\"] = le.fit_transform(data[\"label\"])"
   ]
  },
  {
   "cell_type": "code",
   "execution_count": null,
   "id": "47420f59-1823-4c03-938f-71d2471dd70a",
   "metadata": {
    "tags": []
   },
   "outputs": [],
   "source": [
    "data.info()"
   ]
  },
  {
   "cell_type": "code",
   "execution_count": null,
   "id": "bab403d0-074c-48f6-acb2-d502247bfcc0",
   "metadata": {
    "tags": []
   },
   "outputs": [],
   "source": [
    "data.head(2)"
   ]
  },
  {
   "cell_type": "markdown",
   "id": "02eb6c01-e52a-4764-876b-71901220a791",
   "metadata": {
    "tags": []
   },
   "source": [
    "## Feature Extraction"
   ]
  },
  {
   "cell_type": "code",
   "execution_count": null,
   "id": "0f66d4ea-67e2-4d8f-99e2-97502f19dcce",
   "metadata": {
    "tags": []
   },
   "outputs": [],
   "source": [
    "def get_avg(x):\n",
    "    return np.mean(x)\n",
    "\n",
    "def get_std(x):\n",
    "    return np.std(x)\n",
    "\n",
    "data[\"avg_pkt_size\"] = data[\"sizes\"].apply(get_avg)\n",
    "\n",
    "## Get other features\n",
    "### Packet-level: avg, std packet sizes\n",
    "### Flow duration, total data, total pkts\n",
    "### Intra-dlow: mean and std of inter-arrival time or relative variance\n",
    "\n",
    "\n"
   ]
  },
  {
   "cell_type": "code",
   "execution_count": null,
   "id": "b4df81e3-4146-4a69-b0f2-3bf2bf2f040c",
   "metadata": {
    "tags": []
   },
   "outputs": [],
   "source": [
    "#### Feature Selection\n",
    "feature_cols = []  # Adjust as needed\n",
    "\n",
    "### Drop values with no data\n",
    "data_tmp = data.dropna()\n",
    "features = data_tmp[feature_cols]\n",
    "labels = data_tmp[\"label_encoded\"]\n"
   ]
  },
  {
   "cell_type": "code",
   "execution_count": null,
   "id": "16fa2428-93ca-4f64-a940-f6e967e9ff51",
   "metadata": {
    "tags": []
   },
   "outputs": [],
   "source": [
    "# ## Step 4: Split the Dataset\n",
    "X_train, X_test, y_train, y_test = train_test_split(features, labels, test_size=0.3, random_state=42)\n",
    "\n",
    "# ## Step 5: Standardize the Features\n",
    "scaler = StandardScaler()\n",
    "X_train = scaler.fit_transform(X_train)\n",
    "X_test = scaler.transform(X_test)\n"
   ]
  },
  {
   "cell_type": "code",
   "execution_count": null,
   "id": "2dee8a91-f379-485a-98de-8cb8f6dcf57d",
   "metadata": {
    "tags": []
   },
   "outputs": [],
   "source": [
    "### ## Step 6: Train a Model\n",
    "# Using Random Forest as an example\n",
    "clf = RandomForestClassifier(n_estimators=100, random_state=42)\n",
    "clf.fit(X_train, y_train)\n"
   ]
  },
  {
   "cell_type": "code",
   "execution_count": null,
   "id": "59a2936e-5da9-49b9-b5b7-db53b0464648",
   "metadata": {
    "tags": []
   },
   "outputs": [],
   "source": [
    "# ## Step 7: Evaluate the Model\n",
    "y_pred = clf.predict(X_test)\n",
    "\n",
    "# Classification Report\n",
    "print(\"Classification Report:\")\n",
    "print(classification_report(y_test, y_pred, target_names=le.classes_))"
   ]
  },
  {
   "cell_type": "code",
   "execution_count": null,
   "id": "a2b9ae66-e61b-4488-9e8f-ecc553d93538",
   "metadata": {},
   "outputs": [],
   "source": [
    "# Confusion Matrix\n",
    "cm = confusion_matrix(y_test, y_pred)\n",
    "plt.figure(figsize=(10, 7))\n",
    "sns.heatmap(cm, annot=True, fmt='d', cmap='Blues', xticklabels=le.classes_, yticklabels=le.classes_)\n",
    "plt.title(\"Confusion Matrix\")\n",
    "plt.xlabel(\"Predicted\")\n",
    "plt.ylabel(\"Actual\")\n",
    "plt.show()"
   ]
  },
  {
   "cell_type": "code",
   "execution_count": null,
   "id": "dc48c00e-8424-4263-a596-c6c8842106cb",
   "metadata": {
    "tags": []
   },
   "outputs": [],
   "source": [
    "# ## Step 8: Feature Importance\n",
    "# Plot feature importances\n",
    "importances = clf.feature_importances_\n",
    "feature_names = features.columns\n",
    "\n",
    "plt.figure(figsize=(12, 8))\n",
    "plt.barh(feature_names, importances, color='skyblue')\n",
    "plt.xlabel(\"Importance\")\n",
    "plt.ylabel(\"Feature\")\n",
    "plt.title(\"Feature Importance\")\n",
    "plt.show()\n"
   ]
  },
  {
   "cell_type": "code",
   "execution_count": null,
   "id": "c8e4512c-79be-4215-9fe1-6c71fe190497",
   "metadata": {},
   "outputs": [],
   "source": [
    "## Can you think of methods to improve the accuracy? "
   ]
  }
 ],
 "metadata": {
  "kernelspec": {
   "display_name": "Python 3 (ipykernel)",
   "language": "python",
   "name": "python3"
  },
  "language_info": {
   "codemirror_mode": {
    "name": "ipython",
    "version": 3
   },
   "file_extension": ".py",
   "mimetype": "text/x-python",
   "name": "python",
   "nbconvert_exporter": "python",
   "pygments_lexer": "ipython3",
   "version": "3.11.5"
  }
 },
 "nbformat": 4,
 "nbformat_minor": 5
}
