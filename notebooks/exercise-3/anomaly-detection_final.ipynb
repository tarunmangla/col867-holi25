{
 "cells": [
  {
   "cell_type": "markdown",
   "id": "2d95c512-f35e-4324-b487-b68ef5cbf4a8",
   "metadata": {
    "tags": []
   },
   "source": [
    "### Overview of the dataset\n",
    "\n",
    "Dataset Characteristics: CIC-IDS2017 dataset contains network traffic data for the development and evaluation of intrusion detection systems. The dataset is designed to be representative of modern network traffic and includes more than 2.8 million network packets captured over a period of seven days in a real network environment. The dataset includes normal traffic and seven different attack scenarios: Brute Force, Heartbleed, Botnet, DoS, DDoS, Web Attack and Infiltration. The dataset consists of 2830743 rows and 79 columns. In these columns, 78 of them are features that are numerical and the 'label' column is categorical"
   ]
  },
  {
   "cell_type": "markdown",
   "id": "45a1711f-fa91-4afe-b720-954a3e593164",
   "metadata": {},
   "source": [
    "Data [link](https://csciitd-my.sharepoint.com/:f:/g/personal/tmangla_iitd_ac_in/EoNOWmPMifxDsInZccN-pugB_MQYztP4UWuyHrlV_N5LJQ?e=52ticB)"
   ]
  },
  {
   "cell_type": "markdown",
   "id": "32b4de97-6322-44b4-8341-cc4b6cdb83d6",
   "metadata": {},
   "source": [
    "### Data characteristics "
   ]
  },
  {
   "cell_type": "code",
   "execution_count": null,
   "id": "f40573ad-b232-4418-bdcf-e0f5eeace2e6",
   "metadata": {},
   "outputs": [],
   "source": [
    "import pandas as pd\n",
    "import os\n",
    "import numpy as np\n",
    "from sklearn.mixture import GaussianMixture\n",
    "from sklearn.cluster import KMeans\n",
    "import seaborn as sns\n",
    "from glob import glob\n",
    "import matplotlib.pyplot as plt\n",
    "from sklearn.preprocessing import StandardScaler\n",
    "from sklearn.metrics import precision_recall_curve, auc"
   ]
  },
  {
   "cell_type": "markdown",
   "id": "cf44b76e-b2f2-41bb-96f1-66e174186325",
   "metadata": {},
   "source": [
    "### Step 1: Data exploration"
   ]
  },
  {
   "cell_type": "code",
   "execution_count": null,
   "id": "6f0b6b0e-2f42-4ce3-bb24-711a40feebcb",
   "metadata": {},
   "outputs": [],
   "source": [
    "def read_data(fname):\n",
    "    df = pd.read_csv(fname)\n",
    "    df.rename(columns={col: col.strip() for col in df.columns}, inplace=True)\n",
    "    return df \n",
    "    \n",
    "def pre_process(df):\n",
    "    df = df[df.columns.tolist()[:-1]]\n",
    "    df = df.fillna(0)\n",
    "    df.replace([np.inf, -np.inf], -1, inplace=True)\n",
    "    return df"
   ]
  },
  {
   "cell_type": "code",
   "execution_count": null,
   "id": "27dd0570-5cb8-4488-809d-f8286c352024",
   "metadata": {},
   "outputs": [],
   "source": [
    "# Loading the dataset\n",
    "data1 = read_data('data/CIC-IDS-2017/Monday-WorkingHours.pcap_ISCX.csv')\n",
    "data2 = read_data('data/CIC-IDS-2017/Tuesday-WorkingHours.pcap_ISCX.csv')\n",
    "data3 = read_data('data/CIC-IDS-2017//Wednesday-workingHours.pcap_ISCX.csv')\n",
    "data4 = read_data('data/CIC-IDS-2017/Thursday-WorkingHours-Morning-WebAttacks.pcap_ISCX.csv')\n",
    "data5 = read_data('data/CIC-IDS-2017/Thursday-WorkingHours-Afternoon-Infilteration.pcap_ISCX.csv')\n",
    "data6 = read_data('data/CIC-IDS-2017/Friday-WorkingHours-Afternoon-PortScan.pcap_ISCX.csv')"
   ]
  },
  {
   "cell_type": "code",
   "execution_count": null,
   "id": "4a26388b-b292-4787-9d54-8314458d41b0",
   "metadata": {
    "tags": []
   },
   "outputs": [],
   "source": [
    "data1.columns"
   ]
  },
  {
   "cell_type": "code",
   "execution_count": null,
   "id": "eba7a15e-fbeb-4aab-b1f8-0c0d99a6eb5a",
   "metadata": {
    "tags": []
   },
   "outputs": [],
   "source": [
    "data = pd.concat([data1, data2, data3, data4, data5, data6]).reset_index()"
   ]
  },
  {
   "cell_type": "code",
   "execution_count": null,
   "id": "c4131f5a-79d4-431e-afae-90602ce25eae",
   "metadata": {
    "tags": []
   },
   "outputs": [],
   "source": [
    "data1.info()"
   ]
  },
  {
   "cell_type": "code",
   "execution_count": null,
   "id": "220cb50f-1b0b-4e0e-bc7c-f1756fdfd479",
   "metadata": {
    "tags": []
   },
   "outputs": [],
   "source": [
    "pd.options.display.max_rows = 80\n",
    "\n",
    "print('Overview of Columns:')\n",
    "data1.describe().transpose()"
   ]
  },
  {
   "cell_type": "code",
   "execution_count": null,
   "id": "e8360079-d5a3-4936-bda4-bdfa522b2a14",
   "metadata": {
    "tags": []
   },
   "outputs": [],
   "source": [
    "pd.options.display.max_columns = 80\n",
    "data1"
   ]
  },
  {
   "cell_type": "markdown",
   "id": "2333d737-afdf-482a-897c-0d4a9ceeae4d",
   "metadata": {},
   "source": [
    "#### Labels"
   ]
  },
  {
   "cell_type": "code",
   "execution_count": null,
   "id": "22cae5d8-8478-41e3-ba93-f3975219c9c6",
   "metadata": {
    "tags": []
   },
   "outputs": [],
   "source": [
    "print(data1['Label'].unique())\n",
    "print(data1['Label'].value_counts())"
   ]
  },
  {
   "cell_type": "code",
   "execution_count": null,
   "id": "5288e2c5-a1cb-4b63-b71b-da3056d0b345",
   "metadata": {
    "tags": []
   },
   "outputs": [],
   "source": [
    "print(data['Label'].unique())\n",
    "print(data['Label'].value_counts())"
   ]
  },
  {
   "cell_type": "code",
   "execution_count": null,
   "id": "f00ddae2-d2d1-40e3-ab99-be88f50e9db4",
   "metadata": {},
   "outputs": [],
   "source": [
    "# Creating a dictionary that maps each label to its attack type\n",
    "attack_map = {\n",
    "    'BENIGN': 'BENIGN',\n",
    "    'DDoS': 'DDoS',\n",
    "    'DoS Hulk': 'DoS',\n",
    "    'DoS GoldenEye': 'DoS',\n",
    "    'DoS slowloris': 'DoS',\n",
    "    'DoS Slowhttptest': 'DoS',\n",
    "    'PortScan': 'Port Scan',\n",
    "    'FTP-Patator': 'Brute Force',\n",
    "    'SSH-Patator': 'Brute Force',\n",
    "    'Bot': 'Bot',\n",
    "    'Web Attack � Brute Force': 'Web Attack',\n",
    "    'Web Attack � XSS': 'Web Attack',\n",
    "    'Web Attack � Sql Injection': 'Web Attack',\n",
    "    'Infiltration': 'Infiltration',\n",
    "    'Heartbleed': 'Heartbleed'\n",
    "}\n",
    "label_col = \"Attack Type\"\n",
    "# Creating a new column 'Label1' in the DataFrame based on the attack_map dictionary\n",
    "data['Attack Type'] = data['Label'].map(attack_map)\n",
    "data['Attack Type'].value_counts()"
   ]
  },
  {
   "cell_type": "markdown",
   "id": "f6f1b1d8-58c1-4d41-9e7b-18fac561a13f",
   "metadata": {
    "tags": []
   },
   "source": [
    "### Step 2: Unsupervised learning"
   ]
  },
  {
   "cell_type": "markdown",
   "id": "76e1ccb6-6c78-4f87-8954-52bbb68270c0",
   "metadata": {
    "tags": []
   },
   "source": [
    "**Exercise**: Train an anomaly detection model using benign data from Monday and test it on the remaining days. Report the TPR, FPR and AUC for each day"
   ]
  },
  {
   "cell_type": "code",
   "execution_count": null,
   "id": "01da7469-3e11-4fc9-9fc9-1050fbf94e8a",
   "metadata": {
    "tags": []
   },
   "outputs": [],
   "source": [
    "#data = pd.concat([data2, data3, data4, data5, data6]).reset_index()\n",
    "data = data2 ## Tuesday data "
   ]
  },
  {
   "cell_type": "code",
   "execution_count": null,
   "id": "a84af556-7390-4ae8-9263-fa5412868c2b",
   "metadata": {
    "tags": []
   },
   "outputs": [],
   "source": [
    "## remove nan, inf, -inf val\n",
    "def preprocess(df):\n",
    "    df.replace([np.inf, -np.inf], np.nan, inplace=True)\n",
    "    df = df.dropna()\n",
    "    return df"
   ]
  },
  {
   "cell_type": "code",
   "execution_count": null,
   "id": "02d5e8ff-e7d0-4467-a0a3-f5943e01467b",
   "metadata": {
    "tags": []
   },
   "outputs": [],
   "source": [
    "data = preprocess(data)\n",
    "data1 = preprocess(data1)"
   ]
  },
  {
   "cell_type": "code",
   "execution_count": null,
   "id": "0fb75755-a724-49c3-9c0c-b6e6f352b758",
   "metadata": {
    "tags": []
   },
   "outputs": [],
   "source": [
    "print(data[\"Label\"].value_counts())"
   ]
  },
  {
   "cell_type": "code",
   "execution_count": null,
   "id": "5228c0d5-b76c-4c02-bf76-b299c653e41a",
   "metadata": {
    "tags": []
   },
   "outputs": [],
   "source": [
    "# Creating a dictionary that maps each label to its attack type\n",
    "attack_map = {\n",
    "    'BENIGN': 'BENIGN',\n",
    "    'DDoS': 'DDoS',\n",
    "    'DoS Hulk': 'DoS',\n",
    "    'DoS GoldenEye': 'DoS',\n",
    "    'DoS slowloris': 'DoS',\n",
    "    'DoS Slowhttptest': 'DoS',\n",
    "    'PortScan': 'Port Scan',\n",
    "    'FTP-Patator': 'Brute Force',\n",
    "    'SSH-Patator': 'Brute Force',\n",
    "    'Bot': 'Bot',\n",
    "    'Web Attack � Brute Force': 'Web Attack',\n",
    "    'Web Attack � XSS': 'Web Attack',\n",
    "    'Web Attack � Sql Injection': 'Web Attack',\n",
    "    'Infiltration': 'Infiltration',\n",
    "    'Heartbleed': 'Heartbleed'\n",
    "}\n",
    "label_col = \"Attack Type\"\n",
    "# Creating a new column 'Label1' in the DataFrame based on the attack_map dictionary\n",
    "data['Attack Type'] = data['Label'].map(attack_map)\n",
    "data['Type'] = data['Attack Type'].apply(lambda x: x if x == \"BENIGN\" else \"ATTACK\")\n",
    "\n",
    "data1['Attack Type'] = data1['Label'].map(attack_map)\n",
    "data1['Type'] = data1['Attack Type'].apply(lambda x: x if x == \"BENIGN\" else \"ATTACK\")\n"
   ]
  },
  {
   "cell_type": "code",
   "execution_count": null,
   "id": "9fc70924-b947-4fd8-9984-ecdab4419e50",
   "metadata": {
    "tags": []
   },
   "outputs": [],
   "source": [
    "print(data1['Type'].value_counts())\n",
    "print(data['Type'].value_counts())"
   ]
  },
  {
   "cell_type": "code",
   "execution_count": null,
   "id": "9973d690-0815-4233-a55c-a8a9076b1f40",
   "metadata": {},
   "outputs": [],
   "source": [
    "label_col = 'Type'\n",
    "# Separate features and labels\n",
    "X_train = data1[features_col]  # Training Features\n",
    "y_train = data1[label_col]                 # Training Labels\n",
    "X_test = data[features_col]   # Testing Features\n",
    "y_test = data[label_col]   "
   ]
  },
  {
   "cell_type": "code",
   "execution_count": null,
   "id": "42acf7c1-b428-4f68-8fc7-cac0cc982373",
   "metadata": {},
   "outputs": [],
   "source": [
    "## Unsupervised learning models\n",
    "from sklearn.svm import OneClassSVM\n",
    "from sklearn.neighbors import LocalOutlierFactor\n",
    "from sklearn.ensemble import IsolationForest\n"
   ]
  },
  {
   "cell_type": "code",
   "execution_count": null,
   "id": "3b883bf9-ad0f-4a81-84f9-51112cb9bc00",
   "metadata": {},
   "outputs": [],
   "source": [
    "# Encode the labels (Benign = 0, Attack = 1)\n",
    "encoder = LabelEncoder()\n",
    "y_test_encoded = encoder.fit_transform(y_test)  # Only needed for evaluation\n",
    "\n",
    "# Normalize the data\n",
    "scaler = StandardScaler()\n",
    "X_train_scaled = scaler.fit_transform(X_train)\n",
    "X_test_scaled = scaler.transform(X_test)\n",
    "\n",
    "## Train your model\n",
    "\n",
    "## CODE HERE\n",
    "\n",
    "\n"
   ]
  },
  {
   "cell_type": "code",
   "execution_count": null,
   "id": "86dda016-954e-4e0d-9739-6072f3c57a98",
   "metadata": {
    "tags": []
   },
   "outputs": [],
   "source": [
    "# Get the decision function values (anomaly scores)\n",
    "y_pred_scores = model.decision_function(X_test_scaled)\n",
    "\n",
    "# Convert scores to binary labels (-1 → 1 for anomaly, 1 → 0 for normal)\n",
    "y_pred = np.where(y_pred_scores < 0, 1, 0)\n",
    "\n",
    "# Compute TPR, FPR, and AUC based on the continuous scores\n",
    "fpr, tpr, _ = roc_curve(y_test_encoded, -y_pred_scores)  # Use the raw decision function scores\n",
    "roc_auc = roc_auc_score(y_test_encoded, -y_pred_scores)\n",
    "\n",
    "print(\"AUC Score:\", roc_auc)\n",
    "\n",
    "# Plot ROC Curve\n",
    "plt.figure(figsize=(6, 6))\n",
    "plt.plot(fpr, tpr, color='blue', lw=2, label=f'ROC Curve (AUC = {roc_auc:.2f})')\n",
    "plt.plot([0, 1], [0, 1], color='gray', linestyle='--')  # Random classifier line\n",
    "plt.xlabel(\"False Positive Rate (FPR)\")\n",
    "plt.ylabel(\"True Positive Rate (TPR)\")\n",
    "plt.title(\"ROC Curve for Anomaly Detection\")\n",
    "plt.legend(loc=\"lower right\")\n",
    "plt.show()"
   ]
  },
  {
   "cell_type": "markdown",
   "id": "2c64bd7e-106c-4ccd-b4a7-971c3e3caab6",
   "metadata": {},
   "source": [
    "**Next Step**: Can you improve the accuracy of detection?"
   ]
  },
  {
   "cell_type": "markdown",
   "id": "e6ad0585-64be-4329-897e-6c70646024b5",
   "metadata": {
    "tags": []
   },
   "source": [
    "### Step 3: Supervised Learning [Ignore for now]"
   ]
  },
  {
   "cell_type": "code",
   "execution_count": null,
   "id": "ac789bb3-fbd0-499b-a4b4-32652fe68d23",
   "metadata": {
    "tags": []
   },
   "outputs": [],
   "source": [
    "new_data = data\n",
    "new_data.replace([np.inf, -np.inf], np.nan, inplace=True)\n",
    "new_data = new_data.dropna()"
   ]
  },
  {
   "cell_type": "code",
   "execution_count": null,
   "id": "1adb8ad9-0001-4f9d-b227-aebdad048ac2",
   "metadata": {
    "tags": []
   },
   "outputs": [],
   "source": [
    "features_col = ['Destination Port', 'Flow Duration', 'Total Fwd Packets',\n",
    "       'Total Backward Packets', 'Total Length of Fwd Packets',\n",
    "       'Total Length of Bwd Packets', 'Fwd Packet Length Max',\n",
    "       'Fwd Packet Length Min', 'Fwd Packet Length Mean',\n",
    "       'Fwd Packet Length Std', 'Bwd Packet Length Max',\n",
    "       'Bwd Packet Length Min', 'Bwd Packet Length Mean',\n",
    "       'Bwd Packet Length Std', 'Flow Bytes/s', 'Flow Packets/s',\n",
    "       'Flow IAT Mean', 'Flow IAT Std', 'Flow IAT Max', 'Flow IAT Min',\n",
    "       'Fwd IAT Total', 'Fwd IAT Mean', 'Fwd IAT Std', 'Fwd IAT Max',\n",
    "       'Fwd IAT Min', 'Bwd IAT Total', 'Bwd IAT Mean', 'Bwd IAT Std',\n",
    "       'Bwd IAT Max', 'Bwd IAT Min']"
   ]
  },
  {
   "cell_type": "code",
   "execution_count": null,
   "id": "36922ea6-32f7-4273-8d6a-ced28d413398",
   "metadata": {
    "tags": []
   },
   "outputs": [],
   "source": [
    "from sklearn.preprocessing import LabelEncoder\n",
    "\n",
    "le = LabelEncoder()\n",
    "new_data['Attack Number'] = le.fit_transform(new_data['Attack Type'])\n",
    "\n",
    "print(new_data['Attack Number'].unique())"
   ]
  },
  {
   "cell_type": "code",
   "execution_count": null,
   "id": "438bae33-e164-49e0-bd8b-2db752785b81",
   "metadata": {
    "tags": []
   },
   "outputs": [],
   "source": [
    "features = new_data[features_col]\n",
    "labels = new_data['Attack Number']"
   ]
  },
  {
   "cell_type": "code",
   "execution_count": null,
   "id": "b84522cf-55ea-4ddc-8edd-0b928b175d97",
   "metadata": {
    "tags": []
   },
   "outputs": [],
   "source": [
    "# Standardizing the dataset\n",
    "from sklearn.preprocessing import StandardScaler\n",
    "scaler = StandardScaler()\n",
    "scaled_features = scaler.fit_transform(features)"
   ]
  },
  {
   "cell_type": "code",
   "execution_count": null,
   "id": "1a5e7044-f547-4d09-a235-0a38bc49c86a",
   "metadata": {
    "tags": []
   },
   "outputs": [],
   "source": [
    "from sklearn.model_selection import train_test_split\n",
    "\n",
    "from sklearn.metrics import confusion_matrix, ConfusionMatrixDisplay, accuracy_score, classification_report, \\\n",
    " roc_auc_score, roc_curve, auc, precision_recall_curve\n",
    "from sklearn.model_selection import cross_val_score\n",
    "\n",
    "X_train, X_test, y_train, y_test = train_test_split(features, labels, test_size = 0.25, random_state = 0)"
   ]
  },
  {
   "cell_type": "code",
   "execution_count": null,
   "id": "c0230268-b410-4ede-adc4-576d4afac440",
   "metadata": {
    "tags": []
   },
   "outputs": [],
   "source": [
    "from sklearn.ensemble import RandomForestClassifier\n",
    "\n",
    "rf1 = RandomForestClassifier(n_estimators = 10, max_depth = 6, max_features = None, random_state = 0, n_jobs=-1)\n",
    "rf1.fit(X_train, y_train)\n",
    "\n",
    "cv_rf1 = cross_val_score(rf1, X_train, y_train, cv = 5)\n",
    "print('Random Forest Model 1')\n",
    "print(f'\\nCross-validation scores:', ', '.join(map(str, cv_rf1)))\n",
    "print(f'\\nMean cross-validation score: {cv_rf1.mean():.2f}')"
   ]
  },
  {
   "cell_type": "code",
   "execution_count": null,
   "id": "640d789d-6357-4215-9aaa-922a3ddabf06",
   "metadata": {
    "tags": []
   },
   "outputs": [],
   "source": [
    "# Compute confusion matrix\n",
    "y_pred_rf1 = rf1.predict(X_test)\n",
    "conf_matrix_model1 = confusion_matrix(y_test, y_pred_rf1)\n",
    "\n",
    "# Normalize the confusion matrix\n",
    "conf_matrix_normalized = conf_matrix_model1.astype('float') / conf_matrix_model1.sum(axis=1, keepdims=True)\n",
    "\n",
    "# Compute support (true count for each class)\n",
    "support = conf_matrix_model1.sum(axis=1)\n",
    "\n",
    "# Modify class labels to include support count\n",
    "class_labels = [f\"{cls} (n={count})\" for cls, count in zip(rf1.classes_, support)]\n",
    "\n",
    "# Plot\n",
    "fig, ax = plt.subplots(figsize=(8, 6))  # Adjust size if needed\n",
    "sns.heatmap(conf_matrix_normalized, annot=True, cmap='Blues', ax=ax, fmt=\".2f\",\n",
    "            xticklabels=rf1.classes_, yticklabels=class_labels)\n",
    "\n",
    "# Labels\n",
    "ax.set_xlabel('Predicted label')\n",
    "ax.set_ylabel('True label')\n",
    "ax.set_title('Normalized Confusion Matrix with Support')\n",
    "\n",
    "plt.show()"
   ]
  }
 ],
 "metadata": {
  "kernelspec": {
   "display_name": "Python 3 (ipykernel)",
   "language": "python",
   "name": "python3"
  },
  "language_info": {
   "codemirror_mode": {
    "name": "ipython",
    "version": 3
   },
   "file_extension": ".py",
   "mimetype": "text/x-python",
   "name": "python",
   "nbconvert_exporter": "python",
   "pygments_lexer": "ipython3",
   "version": "3.11.5"
  }
 },
 "nbformat": 4,
 "nbformat_minor": 5
}
